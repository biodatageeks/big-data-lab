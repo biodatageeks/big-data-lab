{
 "cells": [
  {
   "metadata": {},
   "cell_type": "markdown",
   "source": "## Infrastruture as Code git repo cloning\n"
  },
  {
   "metadata": {},
   "cell_type": "code",
   "outputs": [],
   "execution_count": null,
   "source": "REPO_NAME=\"ds-lab-infra\""
  },
  {
   "metadata": {},
   "cell_type": "code",
   "outputs": [],
   "execution_count": null,
   "source": "%env REPO_NAME=$REPO_NAME"
  },
  {
   "metadata": {},
   "cell_type": "code",
   "outputs": [],
   "execution_count": null,
   "source": [
    "%%shell\n",
    "rm -rf $REPO_NAME\n",
    "git clone https://github.com/biodatageeks/ds-lab-infra.git\n",
    "cd $REPO_NAME && git checkout colab-dev"
   ]
  },
  {
   "metadata": {},
   "cell_type": "markdown",
   "source": "## Setup Terraform"
  },
  {
   "cell_type": "code",
   "execution_count": null,
   "metadata": {
    "id": "3aG-iIQGAVAi"
   },
   "outputs": [],
   "source": "%run $REPO_NAME/notebooks/lib/00_terraform_setup.ipynb"
  },
  {
   "cell_type": "markdown",
   "metadata": {
    "id": "VaQBgaVtYlYy"
   },
   "source": [
    "## Lab configuration\n",
    "1. Edit `$REPO_NAME/notebooks/conf/00_env_variables.ipynb`"
   ]
  },
  {
   "cell_type": "code",
   "execution_count": null,
   "metadata": {
    "id": "yqSyLzW1PDMK"
   },
   "outputs": [],
   "source": "%run $REPO_NAME/notebooks/conf/00_env_variables.ipynb"
  },
  {
   "cell_type": "markdown",
   "metadata": {
    "id": "55Fq98gAYxMB"
   },
   "source": [
    "## Google account authentication"
   ]
  },
  {
   "cell_type": "code",
   "execution_count": null,
   "metadata": {
    "id": "8_ChpIGDPmIl"
   },
   "outputs": [],
   "source": [
    "# Authenticate to the Google account\n",
    "from google.colab import auth\n",
    "auth.authenticate_user()"
   ]
  },
  {
   "cell_type": "markdown",
   "metadata": {
    "id": "TUozAqYxYKLu"
   },
   "source": [
    "## Validating the infrastructure execution plan"
   ]
  },
  {
   "cell_type": "code",
   "execution_count": null,
   "metadata": {
    "id": "9nEh2VKrQnE3"
   },
   "outputs": [],
   "source": [
    "%%shell\n",
    "cd $REPO_NAME/infra/bootstrap\n",
    "terraform init\n",
    "terraform plan"
   ]
  },
  {
   "cell_type": "markdown",
   "metadata": {
    "id": "vkPX8M0yWjyQ"
   },
   "source": [
    "## Initial project setup\n",
    "\n",
    "* You're going to provision a new project.\n",
    "* In the first step you only do a very basic setup, e.g.\n",
    "  * enabling cloud services,\n",
    "  * creating a bucket for a Terraform state file and\n",
    "  * granting Editor roles to the lab instructors.\n",
    "* You can run below cells multiple time to observe the difference.\n",
    "\n"
   ]
  },
  {
   "cell_type": "code",
   "execution_count": null,
   "metadata": {
    "id": "o59GxXFASXpl"
   },
   "outputs": [],
   "source": [
    "%%shell\n",
    "# bootstrap a project:\n",
    "cd $REPO_NAME/infra/bootstrap\n",
    "terraform apply -auto-approve"
   ]
  },
  {
   "cell_type": "markdown",
   "metadata": {
    "id": "fhHVaRAKXpkh"
   },
   "source": [
    "## Set the remote bucket for storing Terraform state\n",
    "1. Use the `terraform_state_bucket` variable from above output and use it in the cell below:\n",
    "\n",
    "💡 Make sure you really use **your** bucket from the above output."
   ]
  },
  {
   "cell_type": "code",
   "execution_count": null,
   "metadata": {
    "id": "MXrJW9nFbD-U"
   },
   "outputs": [],
   "source": [
    "%%shell\n",
    "cd infra\n",
    "terraform init -backend-config=bucket=ds-2024l-9900-state"
   ]
  },
  {
   "cell_type": "code",
   "execution_count": null,
   "metadata": {
    "id": "wVB8u7Cqo4ot"
   },
   "outputs": [],
   "source": []
  },
  {
   "cell_type": "code",
   "execution_count": null,
   "metadata": {
    "id": "5yP_mLt9oewQ"
   },
   "outputs": [],
   "source": [
    "%%shell\n",
    "cd ds-lab-infra && git pull\n",
    "terraform apply -auto-approve"
   ]
  },
  {
   "cell_type": "code",
   "execution_count": null,
   "metadata": {
    "id": "k2BBh8akth_w"
   },
   "outputs": [],
   "source": [
    "%%shell\n",
    "cd ds-lab-infra && git pull\n",
    "terraform destroy -auto-approve"
   ]
  }
 ],
 "metadata": {
  "colab": {
   "provenance": []
  },
  "kernelspec": {
   "display_name": "Python 3 (ipykernel)",
   "language": "python",
   "name": "python3"
  },
  "language_info": {
   "name": "python"
  }
 },
 "nbformat": 4,
 "nbformat_minor": 0
}
