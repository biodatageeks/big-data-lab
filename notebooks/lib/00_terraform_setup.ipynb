{
 "cells": [
  {
   "cell_type": "code",
   "execution_count": null,
   "id": "0",
   "metadata": {
    "id": "SXX3HHiSC6sK"
   },
   "outputs": [],
   "source": [
    "import os\n",
    "PATH = os.environ['PATH']"
   ]
  },
  {
   "cell_type": "code",
   "execution_count": null,
   "id": "1",
   "metadata": {
    "id": "udbkwh8h_KU1"
   },
   "outputs": [],
   "source": [
    "%env TERRAFORM_VERSION=1.9.8\n",
    "%env PATH=/content/bin:$PATH"
   ]
  },
  {
   "cell_type": "code",
   "execution_count": null,
   "id": "2",
   "metadata": {
    "id": "tEYcZOVl9arm"
   },
   "outputs": [],
   "source": [
    "%%shell\n",
    "wget https://releases.hashicorp.com/terraform/${TERRAFORM_VERSION}/terraform_${TERRAFORM_VERSION}_linux_amd64.zip -O terraform_${TERRAFORM_VERSION}_linux_amd64.zip\n",
    "unzip -o terraform_${TERRAFORM_VERSION}_linux_amd64.zip -d bin/\n",
    "rm -f terraform_${TERRAFORM_VERSION}_linux_amd64.zip"
   ]
  },
  {
   "cell_type": "code",
   "execution_count": null,
   "id": "3",
   "metadata": {
    "id": "3aG-iIQGAVAi"
   },
   "outputs": [],
   "source": [
    "!terraform --version"
   ]
  }
 ],
 "metadata": {
  "kernelspec": {
   "display_name": "Python 3",
   "language": "python",
   "name": "python3"
  },
  "language_info": {
   "codemirror_mode": {
    "name": "ipython",
    "version": 2
   },
   "file_extension": ".py",
   "mimetype": "text/x-python",
   "name": "python",
   "nbconvert_exporter": "python",
   "pygments_lexer": "ipython2",
   "version": "2.7.6"
  }
 },
 "nbformat": 4,
 "nbformat_minor": 5
}
