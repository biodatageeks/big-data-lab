{
 "cells": [
  {
   "cell_type": "code",
   "execution_count": null,
   "id": "0",
   "metadata": {},
   "outputs": [],
   "source": [
    "REPO_NAME=\"ds-lab-infra\""
   ]
  },
  {
   "cell_type": "code",
   "execution_count": null,
   "id": "1",
   "metadata": {},
   "outputs": [],
   "source": [
    "%env REPO_NAME=$REPO_NAME"
   ]
  },
  {
   "cell_type": "code",
   "execution_count": null,
   "id": "2",
   "metadata": {},
   "outputs": [],
   "source": [
    "%%shell\n",
    "rm -rf $REPO_NAME\n",
    "git clone https://github.com/biodatageeks/ds-lab-infra.git\n",
    "cd $REPO_NAME && git checkout colab-dev"
   ]
  },
  {
   "metadata": {},
   "cell_type": "markdown",
   "source": "### Terraform Setup",
   "id": "e6290c4abe60800b"
  },
  {
   "metadata": {},
   "cell_type": "code",
   "outputs": [],
   "execution_count": null,
   "source": "%run $REPO_NAME/notebooks/lib/00_terraform_setup.ipynb",
   "id": "c24c9b1fe54b3fa4"
  },
  {
   "metadata": {},
   "cell_type": "code",
   "outputs": [],
   "execution_count": null,
   "source": [
    "# Authenticate to the Google account\n",
    "from google.colab import auth\n",
    "auth.authenticate_user()"
   ],
   "id": "312165cabd357d7c"
  },
  {
   "metadata": {},
   "cell_type": "code",
   "outputs": [],
   "execution_count": null,
   "source": "%run $REPO_NAME/notebooks/conf/00_env_variables.ipynb",
   "id": "e31216860ee2ae3"
  },
  {
   "metadata": {},
   "cell_type": "code",
   "outputs": [],
   "execution_count": null,
   "source": "### Set the remote bucket for storing Terraform state",
   "id": "46ca2e3e09e49468"
  },
  {
   "cell_type": "code",
   "execution_count": null,
   "id": "3",
   "metadata": {},
   "outputs": [],
   "source": [
    "\n",
    "1. Use the `terraform_state_bucket` variable from above output and use it in the cell below:\n",
    "\n",
    "💡 Make sure you really use **your** bucket from the above output."
   ]
  },
  {
   "cell_type": "code",
   "execution_count": null,
   "id": "4",
   "metadata": {},
   "outputs": [],
   "source": [
    "%%shell\n",
    "cd infra\n",
    "terraform init -backend-config=bucket=ds-2024l-9900-state"
   ]
  },
  {
   "cell_type": "code",
   "execution_count": null,
   "id": "6",
   "metadata": {},
   "outputs": [],
   "source": [
    "%%shell\n",
    "cd ds-lab-infra && git pull\n",
    "terraform apply -auto-approve"
   ]
  },
  {
   "cell_type": "code",
   "execution_count": null,
   "id": "7",
   "metadata": {},
   "outputs": [],
   "source": [
    "%%shell\n",
    "cd ds-lab-infra && git pull\n",
    "terraform destroy -auto-approve"
   ]
  }
 ],
 "metadata": {
  "kernelspec": {
   "display_name": "Python 3",
   "language": "python",
   "name": "python3"
  },
  "language_info": {
   "codemirror_mode": {
    "name": "ipython",
    "version": 2
   },
   "file_extension": ".py",
   "mimetype": "text/x-python",
   "name": "python",
   "nbconvert_exporter": "python",
   "pygments_lexer": "ipython2"
  }
 },
 "nbformat": 4,
 "nbformat_minor": 5
}
